{
 "cells": [
  {
   "cell_type": "markdown",
   "metadata": {},
   "source": [
    "# 파이썬 스타일 코드1 - 연습해보기\n",
    "#### 비즈니스애널리틱스 HW1_경영학과_201621320_이은우\n",
    "\n",
    "## 일반문제"
   ]
  },
  {
   "cell_type": "markdown",
   "metadata": {},
   "source": [
    "## 1. Css Selector 수정"
   ]
  },
  {
   "cell_type": "code",
   "execution_count": 50,
   "metadata": {},
   "outputs": [
    {
     "data": {
      "text/plain": [
       "'#today_main_news  >  div.hdline_news  >  ul  >  li'"
      ]
     },
     "execution_count": 50,
     "metadata": {},
     "output_type": "execute_result"
    }
   ],
   "source": [
    "selector = \"#today_main_news > div.hdline_news > ul > li:nth-child(1)\"\n",
    "\n",
    "selector_list = selector.split(\">\")\n",
    "selector_list[-1] = selector_list[-1].split(\":\")[0]\n",
    "\n",
    "\" > \".join(selector_list)"
   ]
  },
  {
   "cell_type": "markdown",
   "metadata": {},
   "source": [
    "#### split()함수 : 문자열의 값을 특정 값을 기준으로 분리하여 리스트 형태로 변환하는 방법  \n",
    "split()함수는 텍스트를 간단하게 리스트 형태로 나누어 분리할 수 있다.\n",
    "\n",
    "\n",
    "* 리스트 값을 변수로 언패킹\n",
    ">example = '1,2,3'  \n",
    "example.split(\",\") 하면 example을 , 를 기준으로 문자열로 나누는 것  \n",
    "a,b,c = example.split(\",\") -> 리스트에 있는 각 값을 a,b,c변수로 언패킹! (1은 a로, 2는 b로, 3은 c가 되는 것)  \n",
    "print(a,b,c) 를 하면 1 2 3 이 출력된다.\n",
    "\n",
    "\n",
    "#### join()함수 : 문자열로 구성된 리스트를 합쳐 하나의 문자열로 반환할 때 사용\n",
    "구분자.join(조인의 대상_리스트형태)\n",
    "\n",
    "* '-'.join(example) 이면 example 안 문자열을 -로 연결하라는 것\n",
    "> '-'.join(example) 을 하면 1-2-3 이 되는 것"
   ]
  },
  {
   "cell_type": "markdown",
   "metadata": {},
   "source": [
    "## 2. list comprehesion으로 만드는 구구단"
   ]
  },
  {
   "cell_type": "markdown",
   "metadata": {},
   "source": [
    "#### 리스트 컴프리헨션이란,\n",
    "기존 리스트형을 사용해 간단하게 새로운 리스트를 만드는 기법.  \n",
    "리스트와 for문을 한 줄에 사용할 수 있는 장점이 있다.\n",
    "\n",
    "> result = [i for i in range(10)] 을 하면 [0,1,2,3,4,5,6,7,8,9,10] 출력\n",
    "\n",
    "기본 형태가 i for i in range() 이고, 가장 앞에 있는 i 가 우리가 출력하고자 하는 것.  \n",
    "두번째 i 가 range 내부의 값을 차례대로 받게 되는 값을 뜻한다\n",
    "\n",
    "\n",
    "#### 리스트 컴프리헨션에서 필터링하기\n",
    "> result = [i for i in range(10) if i % 2 ==0]  \n",
    "\n",
    "i를 2로 나누었을 때 나머지가 0인 (=짝수)만 필터링해서, i에 할당하는 것.\n",
    "result 출력 시 [0,2,4,6,8] 나옴\n",
    "\n",
    "\n",
    "#### 리스트 컴프리헨션에서 else 사용하기\n",
    "> result = [i if i % 2 == 0 else 10 for i in range(10)]\n",
    "\n",
    "2로 나누었을 때 나머지가 0이면 i를 range 내에서 할당하고,  \n",
    "0이 아니라면 (else) 10을 할당해라!\n",
    "따라서, 결과는 [0,10,2,10,4,10,6,10,8,10] 이 된다"
   ]
  },
  {
   "cell_type": "code",
   "execution_count": 55,
   "metadata": {},
   "outputs": [
    {
     "name": "stdout",
     "output_type": "stream",
     "text": [
      "2 x 1 = 2\n",
      "2 x 2 = 4\n",
      "2 x 3 = 6\n",
      "2 x 4 = 8\n",
      "2 x 5 = 10\n",
      "2 x 6 = 12\n",
      "2 x 7 = 14\n",
      "2 x 8 = 16\n",
      "2 x 9 = 18\n"
     ]
    }
   ],
   "source": [
    "def gugu_com(x=2):\n",
    "    [print(f\"{x} x {i} = {x*i}\") for i in range(1, 10)]\n",
    "\n",
    "gugu_com(2) \n",
    "# x에는 2를 넣고, i는 1에서 10까지 range안에서 차례로 할당하고, \n",
    "# 이 두 값을 곱하고 출력하는 함수를 gugu_com 이라고 선언"
   ]
  },
  {
   "cell_type": "markdown",
   "metadata": {},
   "source": [
    "## 3. 두 주사위의 곱\n",
    "#### 부제 : 리스트 컴프리헨션 中 이차원 리스트\n",
    "\n",
    "기본 형식 : [[만들고자 구성하는 것] 꺼내 올 것]\n",
    "바깥 괄호에 있는 것 먼저 실행 -> 안 괄호에 있는 것 실행 순서!\n",
    "\n",
    "> result = [[i+j for i in case_1] for j in case_2]\n",
    "\n",
    "case_2의 첫번째 요소가 고정되고, case_1의 요소가 차례로 붙는 형식\n",
    "\n",
    "#### 2차원을 1차원으로 표현하려면?\n",
    "i + j for i in case_1 for j in case_2 가 된다.\n",
    "1차원일 때는 앞의 for문 부터 실행되고, 2차원일 때는 바깥 for문 부터 실행된다"
   ]
  },
  {
   "cell_type": "code",
   "execution_count": 5,
   "metadata": {},
   "outputs": [
    {
     "data": {
      "text/plain": [
       "[[1, 2, 3, 4, 5, 6],\n",
       " [2, 4, 6, 8, 10, 12],\n",
       " [3, 6, 9, 12, 15, 18],\n",
       " [4, 8, 12, 16, 20, 24],\n",
       " [5, 10, 15, 20, 25, 30],\n",
       " [6, 12, 18, 24, 30, 36]]"
      ]
     },
     "execution_count": 5,
     "metadata": {},
     "output_type": "execute_result"
    }
   ],
   "source": [
    "die = [i for i in range(1,7)]\n",
    "\n",
    "[[j*i for i in die] for j in die]\n",
    "\n",
    "# 뒤에 있는 j in die가 먼저 실행됨 (1,2,3,4,5,6)\n",
    "# 앞에 있는 i 가 실행되고,  j*i 실행\n",
    "# [(j=1 * i=1), (j=1 * i = 2),...,(j=1 * i = 6)] 의 형태로 이루어지는 것"
   ]
  },
  {
   "cell_type": "markdown",
   "metadata": {},
   "source": [
    "### 3.1. list comprehesion 2차원 리스트 좀더 살펴보기"
   ]
  },
  {
   "cell_type": "code",
   "execution_count": 56,
   "metadata": {},
   "outputs": [
    {
     "name": "stdout",
     "output_type": "stream",
     "text": [
      "[1, 2, 3, 4, 5, 6, 7, 8, 9]\n"
     ]
    }
   ],
   "source": [
    "a=[[1,2,3],[4,5,6],[7,8,9]]\n",
    "b=[x for k in a for x in k] #1차원 형태니까 앞에 for문 먼저 실행\n",
    "\n",
    "# 1) for k in a 먼저 실행: a에서 하나씩(123 하나, 456 하나, 789 하나) 빼서 k에 할당\n",
    "# 2) x for x in k 실행 : k에서 하나씩(1,2,3,4,5,6,7,8,9) 빼서 x에 할당한다\n",
    "# 3) x에 k 값을 하나씩 할당한다.\n",
    "print(b)"
   ]
  },
  {
   "cell_type": "code",
   "execution_count": 63,
   "metadata": {},
   "outputs": [
    {
     "name": "stdout",
     "output_type": "stream",
     "text": [
      "[[1, 2, 3], [4, 5, 6], [7, 8, 9]]\n"
     ]
    }
   ],
   "source": [
    "a=[[1,2,3],[4,5,6],[7,8,9]]\n",
    "b=[x for x in a] # k에 1차로 할당하지 않으면, list형태로 반환됨\n",
    "print(b)"
   ]
  },
  {
   "cell_type": "code",
   "execution_count": 58,
   "metadata": {},
   "outputs": [
    {
     "name": "stdout",
     "output_type": "stream",
     "text": [
      "[[1, 4, 9], [16, 25, 36], [49, 64, 81]]\n"
     ]
    }
   ],
   "source": [
    "a=[[1,2,3],[4,5,6],[7,8,9]]\n",
    "squared=[[x**2 for x in k]for k in a]\n",
    "\n",
    "# 1) for k in a 먼저 실행 : a의 값을 k에 하나씩 할당함 (이 값을 고정!)\n",
    "# 2) for x in k 실행 : k의 값을 x에 할당\n",
    "# 3) x**2 for x in k 실행 : x\n",
    "\n",
    "print(squared)"
   ]
  },
  {
   "cell_type": "code",
   "execution_count": 61,
   "metadata": {},
   "outputs": [
    {
     "ename": "TypeError",
     "evalue": "unsupported operand type(s) for ** or pow(): 'list' and 'int'",
     "output_type": "error",
     "traceback": [
      "\u001b[1;31m---------------------------------------------------------------------------\u001b[0m",
      "\u001b[1;31mTypeError\u001b[0m                                 Traceback (most recent call last)",
      "\u001b[1;32m<ipython-input-61-e25b41adf33a>\u001b[0m in \u001b[0;36m<module>\u001b[1;34m\u001b[0m\n\u001b[0;32m      1\u001b[0m \u001b[0ma\u001b[0m\u001b[1;33m=\u001b[0m\u001b[1;33m[\u001b[0m\u001b[1;33m[\u001b[0m\u001b[1;36m1\u001b[0m\u001b[1;33m,\u001b[0m\u001b[1;36m2\u001b[0m\u001b[1;33m,\u001b[0m\u001b[1;36m3\u001b[0m\u001b[1;33m]\u001b[0m\u001b[1;33m,\u001b[0m\u001b[1;33m[\u001b[0m\u001b[1;36m4\u001b[0m\u001b[1;33m,\u001b[0m\u001b[1;36m5\u001b[0m\u001b[1;33m,\u001b[0m\u001b[1;36m6\u001b[0m\u001b[1;33m]\u001b[0m\u001b[1;33m,\u001b[0m\u001b[1;33m[\u001b[0m\u001b[1;36m7\u001b[0m\u001b[1;33m,\u001b[0m\u001b[1;36m8\u001b[0m\u001b[1;33m,\u001b[0m\u001b[1;36m9\u001b[0m\u001b[1;33m]\u001b[0m\u001b[1;33m]\u001b[0m\u001b[1;33m\u001b[0m\u001b[1;33m\u001b[0m\u001b[0m\n\u001b[1;32m----> 2\u001b[1;33m \u001b[0msquared\u001b[0m\u001b[1;33m=\u001b[0m\u001b[1;33m[\u001b[0m\u001b[0mx\u001b[0m\u001b[1;33m**\u001b[0m\u001b[1;36m2\u001b[0m \u001b[1;32mfor\u001b[0m \u001b[0mx\u001b[0m \u001b[1;32min\u001b[0m \u001b[0ma\u001b[0m\u001b[1;33m]\u001b[0m\u001b[1;33m\u001b[0m\u001b[1;33m\u001b[0m\u001b[0m\n\u001b[0m",
      "\u001b[1;32m<ipython-input-61-e25b41adf33a>\u001b[0m in \u001b[0;36m<listcomp>\u001b[1;34m(.0)\u001b[0m\n\u001b[0;32m      1\u001b[0m \u001b[0ma\u001b[0m\u001b[1;33m=\u001b[0m\u001b[1;33m[\u001b[0m\u001b[1;33m[\u001b[0m\u001b[1;36m1\u001b[0m\u001b[1;33m,\u001b[0m\u001b[1;36m2\u001b[0m\u001b[1;33m,\u001b[0m\u001b[1;36m3\u001b[0m\u001b[1;33m]\u001b[0m\u001b[1;33m,\u001b[0m\u001b[1;33m[\u001b[0m\u001b[1;36m4\u001b[0m\u001b[1;33m,\u001b[0m\u001b[1;36m5\u001b[0m\u001b[1;33m,\u001b[0m\u001b[1;36m6\u001b[0m\u001b[1;33m]\u001b[0m\u001b[1;33m,\u001b[0m\u001b[1;33m[\u001b[0m\u001b[1;36m7\u001b[0m\u001b[1;33m,\u001b[0m\u001b[1;36m8\u001b[0m\u001b[1;33m,\u001b[0m\u001b[1;36m9\u001b[0m\u001b[1;33m]\u001b[0m\u001b[1;33m]\u001b[0m\u001b[1;33m\u001b[0m\u001b[1;33m\u001b[0m\u001b[0m\n\u001b[1;32m----> 2\u001b[1;33m \u001b[0msquared\u001b[0m\u001b[1;33m=\u001b[0m\u001b[1;33m[\u001b[0m\u001b[0mx\u001b[0m\u001b[1;33m**\u001b[0m\u001b[1;36m2\u001b[0m \u001b[1;32mfor\u001b[0m \u001b[0mx\u001b[0m \u001b[1;32min\u001b[0m \u001b[0ma\u001b[0m\u001b[1;33m]\u001b[0m\u001b[1;33m\u001b[0m\u001b[1;33m\u001b[0m\u001b[0m\n\u001b[0m",
      "\u001b[1;31mTypeError\u001b[0m: unsupported operand type(s) for ** or pow(): 'list' and 'int'"
     ]
    }
   ],
   "source": [
    "a=[[1,2,3],[4,5,6],[7,8,9]]\n",
    "squared=[x**2 for x in a]\n",
    "\n",
    "# unsupported operand type(s) for ** or pow(): 'list' and 'int' \n",
    "# list와 int 타임에 ** 제곱 연산은 지원되지 않음.\n",
    "\n",
    "# 2차원 리스트로 하지않으면, 리스트가 각 숫자로 반환되지 않으니까\n",
    "# 1차로 k로 받아서 숫자로 반환하고, 그 다음에 x**2에 할당"
   ]
  },
  {
   "cell_type": "markdown",
   "metadata": {},
   "source": [
    "### 3.2. 리스트값에 인덱스를 붙여 출력하기 : enumerate()함수\n",
    "enumerate() 함수는 주로 딕셔너리 형으로,  \n",
    "인덱스를 키로, 단어를 값으로 하여 쌍으로 묶어 결과를 출력하는 방식을 사용한다.\n",
    "\n",
    "* dictionary 형태  \n",
    "{key : 값}"
   ]
  },
  {
   "cell_type": "code",
   "execution_count": 1,
   "metadata": {
    "scrolled": true
   },
   "outputs": [
    {
     "data": {
      "text/plain": [
       "{0: 'what',\n",
       " 1: 'I',\n",
       " 2: 'really',\n",
       " 3: 'love',\n",
       " 4: 'about',\n",
       " 5: 'my',\n",
       " 6: 'room',\n",
       " 7: 'is',\n",
       " 8: 'my',\n",
       " 9: 'travel',\n",
       " 10: 'pictures'}"
      ]
     },
     "execution_count": 1,
     "metadata": {},
     "output_type": "execute_result"
    }
   ],
   "source": [
    "{i:j for i,j in enumerate('what I really love about my room is my travel pictures'.split())}"
   ]
  },
  {
   "cell_type": "markdown",
   "metadata": {},
   "source": [
    "### 3.3. 리스트값을 병렬로 묶어 출력하기 : zip()함수\n",
    "zip()함수는 1개 이상의 리스트값이 같은 인덱스에 있을 때 병렬로 묶는 함수"
   ]
  },
  {
   "cell_type": "code",
   "execution_count": 74,
   "metadata": {},
   "outputs": [
    {
     "name": "stdout",
     "output_type": "stream",
     "text": [
      "경영학과 이은우\n",
      "e-business학과 이은두\n",
      "경제학과 이은셋\n"
     ]
    }
   ],
   "source": [
    "alist=['경영학과','e-business학과','경제학과']\n",
    "blist=['이은우','이은두','이은셋']\n",
    "for a,b in zip(alist,blist):\n",
    "    print(a,b)"
   ]
  },
  {
   "cell_type": "markdown",
   "metadata": {},
   "source": [
    "## 4. 두 주사위의 합"
   ]
  },
  {
   "cell_type": "code",
   "execution_count": 6,
   "metadata": {},
   "outputs": [
    {
     "name": "stdout",
     "output_type": "stream",
     "text": [
      "8\n",
      "8\n"
     ]
    }
   ],
   "source": [
    "dice_sum = [[2, 3, 4, 5, 6, 7],\n",
    "            [3, 4, 5, 6, 7, 8],\n",
    "            [4, 5, 6, 7, 8, 9],\n",
    "            [5, 6, 7, 8, 9, 10],\n",
    "            [6, 7, 8, 9, 10, 11],\n",
    "            [7, 8, 9, 10, 11, 12]]\n",
    "\n",
    "print(dice_sum[1][5])\n",
    "print(dice_sum[5][1])"
   ]
  },
  {
   "cell_type": "code",
   "execution_count": 75,
   "metadata": {},
   "outputs": [
    {
     "name": "stdout",
     "output_type": "stream",
     "text": [
      "8\n",
      "8\n"
     ]
    }
   ],
   "source": [
    "die = [i for i in range(1,7)]\n",
    "\n",
    "dice_sum = [[j+i for i in die] for j in die]\n",
    "\n",
    "# 1) 바깥 괄호에 있는 for j in die부터 실행 = j에 1~6까지 할당됨\n",
    "# 2) 안쪽 괄호에 있는 for i in die 실행 = i에 1~6까지 할당됨\n",
    "# 3) j+i 실행\n",
    "\n",
    "print(dice_sum[1][5])\n",
    "print(dice_sum[5][1])"
   ]
  },
  {
   "cell_type": "markdown",
   "metadata": {},
   "source": [
    "# 도전문제\n",
    "\n",
    "## 표절 검사 프로그램"
   ]
  },
  {
   "cell_type": "code",
   "execution_count": 8,
   "metadata": {},
   "outputs": [],
   "source": [
    "from collections import defaultdict, Counter\n",
    "\n",
    "text = \"\"\"Python is a very simple programming language so even if you are new to programming, you can learn python without facing any issues.\"\"\"\n",
    "\n",
    "text2 = \"\"\"C is a very difficult programming language so even if you are good at programming, you can learn c with facing any issues.\"\"\"\n",
    "\n",
    "text3 = \"\"\"R Programming is good at statistical analysis. you can learn easily\"\"\""
   ]
  },
  {
   "cell_type": "markdown",
   "metadata": {},
   "source": [
    "collections 모듈의 Counter, defaultdict 클래스를 사용하기 위해 import 해줌  \n",
    "counter 모듈로 리스트에 있는 각 항목을 셀 수 있고,  \n",
    "defaultdict로 호출과 동시에 미리 지정한 기본값이 할당되도록 선언할 수 있다."
   ]
  },
  {
   "cell_type": "markdown",
   "metadata": {},
   "source": [
    "## 문제1"
   ]
  },
  {
   "cell_type": "code",
   "execution_count": 9,
   "metadata": {},
   "outputs": [],
   "source": [
    "def word_counter(text):\n",
    "    word_count = defaultdict(lambda: 0)\n",
    "    for word in text.lower().split():\n",
    "        word_count[word] += 1\n",
    "        \n",
    "    return word_count"
   ]
  },
  {
   "cell_type": "markdown",
   "metadata": {},
   "source": [
    "1) defaultdict를 활용해 기본값을 lamda:0으로 선언하고,  \n",
    "기존에 없던 key를 호출하면 key가 defaultdict의 값으로 자동 초기화 된다.\n",
    "\n",
    "2) test를 lower처리한 \"python is a very simple programming language so even if you are new to programming, you can learn python without facing any issues.\"를 빈칸을 기준으로 split한다.  \n",
    "  \n",
    "  3) split 한 값을 word에 할당한다.  \n",
    "    \n",
    "   4) word_count에 기본값은 lambda :0 으로 하고, word를 하나씩 넣어 해당 개수 +1을 해준다."
   ]
  },
  {
   "cell_type": "code",
   "execution_count": 10,
   "metadata": {},
   "outputs": [
    {
     "data": {
      "text/plain": [
       "defaultdict(<function __main__.word_counter.<locals>.<lambda>()>,\n",
       "            {'python': 2,\n",
       "             'is': 1,\n",
       "             'a': 1,\n",
       "             'very': 1,\n",
       "             'simple': 1,\n",
       "             'programming': 1,\n",
       "             'language': 1,\n",
       "             'so': 1,\n",
       "             'even': 1,\n",
       "             'if': 1,\n",
       "             'you': 2,\n",
       "             'are': 1,\n",
       "             'new': 1,\n",
       "             'to': 1,\n",
       "             'programming,': 1,\n",
       "             'can': 1,\n",
       "             'learn': 1,\n",
       "             'without': 1,\n",
       "             'facing': 1,\n",
       "             'any': 1,\n",
       "             'issues.': 1})"
      ]
     },
     "execution_count": 10,
     "metadata": {},
     "output_type": "execute_result"
    }
   ],
   "source": [
    "word_counter(text)"
   ]
  },
  {
   "cell_type": "markdown",
   "metadata": {},
   "source": [
    "## 문제2"
   ]
  },
  {
   "cell_type": "code",
   "execution_count": 85,
   "metadata": {},
   "outputs": [],
   "source": [
    "def text_similarity(text_count_1, text_count_2):\n",
    "    text1_count = Counter(text_count_1)\n",
    "    text2_count = Counter(text_count_2)\n",
    "    \n",
    "    word_total = sum(text1_count.values())\n",
    "    word_diff = sum((text1_count - text2_count).values())\n",
    "    \n",
    "    return (1 - word_diff / word_total) * 100"
   ]
  },
  {
   "cell_type": "markdown",
   "metadata": {},
   "source": [
    "text1_count, text2_count에 text_count_1, text_count_2 각각 리스트에 있는 단어의 개수를 count해서 할당한다.  \n",
    "  \n",
    "  text1_count의 values를 합해서 word_total 변수에,  \n",
    "  text1_count(=text_count_1 단어 개수)에서 text2_count를 빼서 values 형태로 word_diff 변수에 할당한다.  \n",
    "    \n",
    "   1에서 word_total에서 word_diff를 나눈 것을 빼고 *100을 하면, text_similarity가 나온다."
   ]
  },
  {
   "cell_type": "code",
   "execution_count": 86,
   "metadata": {},
   "outputs": [
    {
     "data": {
      "text/plain": [
       "73.91304347826086"
      ]
     },
     "execution_count": 86,
     "metadata": {},
     "output_type": "execute_result"
    }
   ],
   "source": [
    "text_similarity(word_counter(text), word_counter(text2)) #text와 text2의 유사도"
   ]
  },
  {
   "cell_type": "code",
   "execution_count": 87,
   "metadata": {},
   "outputs": [
    {
     "data": {
      "text/plain": [
       "21.739130434782606"
      ]
     },
     "execution_count": 87,
     "metadata": {},
     "output_type": "execute_result"
    }
   ],
   "source": [
    "text_similarity(word_counter(text), word_counter(text3)) #text와 text3의 유사도"
   ]
  },
  {
   "cell_type": "markdown",
   "metadata": {},
   "source": [
    "# 파이썬 스타일 코드2 - 연습해보기\n",
    "\n",
    "\n",
    "## 실습코드"
   ]
  },
  {
   "cell_type": "markdown",
   "metadata": {},
   "source": [
    "## 1. 람다함수\n",
    "* 람다(lamda) 함수는 함수의 이름 없이, 함수처럼 사용할 수 있는 익명의 함수를 말한다.  \n",
    "일반적으로 람다 함수는 이름을 지정하지 않아도 사용할 수 있다.  \n",
    "  \n",
    "  매개변수 f = lambda x,y : x+y  \n",
    "  print(f(x,y))  \n",
    "  를 기본형식으로 사용한다  \n",
    "    \n",
    "    def나 return을 사용하지 않고도 함수를 만들 수 있다"
   ]
  },
  {
   "cell_type": "markdown",
   "metadata": {},
   "source": [
    "### 1.1. 기존 함수"
   ]
  },
  {
   "cell_type": "code",
   "execution_count": 14,
   "metadata": {},
   "outputs": [
    {
     "name": "stdout",
     "output_type": "stream",
     "text": [
      "5\n"
     ]
    }
   ],
   "source": [
    "def f(x,y):\n",
    "    return x + y\n",
    "\n",
    "print(f(1,4))"
   ]
  },
  {
   "cell_type": "markdown",
   "metadata": {},
   "source": [
    "### 1.2. lamda 함수 할당"
   ]
  },
  {
   "cell_type": "code",
   "execution_count": 15,
   "metadata": {},
   "outputs": [
    {
     "name": "stdout",
     "output_type": "stream",
     "text": [
      "5\n"
     ]
    }
   ],
   "source": [
    "f=lambda x,y: x + y\n",
    "print(f(1,4))"
   ]
  },
  {
   "cell_type": "markdown",
   "metadata": {},
   "source": [
    "### 1.3. 익명의 lamda 함수"
   ]
  },
  {
   "cell_type": "code",
   "execution_count": 76,
   "metadata": {},
   "outputs": [
    {
     "name": "stdout",
     "output_type": "stream",
     "text": [
      "5\n"
     ]
    }
   ],
   "source": [
    "print((lambda x, y:x+y)(1,4)) # 정의하면서 바로 매개변수를 넣을 수 있음."
   ]
  },
  {
   "cell_type": "markdown",
   "metadata": {},
   "source": [
    "## 2. 맵리듀스"
   ]
  },
  {
   "cell_type": "markdown",
   "metadata": {},
   "source": [
    "### 2.1. map 함수\n",
    "연속 데이터를 저장하는 시퀀스 자료형에서 요소마다 같은 기능을 적용할 때 사용한다. 일반적으로 리스트나 튜플처럼 요소가 있는 시퀀스 자료형에 사용된다.  \n",
    "순서가 있는 자료형일 때! (딕셔너리는 순서X) 하나씩 순서대로 집어 넣는 것.  \n",
    "여러 데이터를 여러번 반복해서 사용해야 할 때 사용한다"
   ]
  },
  {
   "cell_type": "code",
   "execution_count": 3,
   "metadata": {
    "scrolled": true
   },
   "outputs": [
    {
     "name": "stdout",
     "output_type": "stream",
     "text": [
      "[1, 4, 9, 16, 25]\n"
     ]
    }
   ],
   "source": [
    "ex = [1,2,3,4,5]  # ex라는 이름의 리스트 생성\n",
    "f = lambda x:x**2  # 입력된 값 x를 제곱하는 람다함수 f 생성\n",
    "\n",
    "# ex에 1,2,3,4,5 매개 변수가 있고, 이 각 값을 lambda 함수에 넣으면\n",
    "# 1의 제곱, 2의 제곱, ... , 5의 제곱으로 됨\n",
    "\n",
    "print(list(map(f, ex)))  # 함수 f를 ex의 각 요소에 mapping 하라는 뜻\n",
    "\n",
    "# 긴데이터를 가진 함수를 꺼낼 때 유용함\n",
    "# ex라는 해당 리스트에서만 사용될 함수라면, 굳이 함수를 정의하지 않고\n",
    "# lambda 함수로 익명함수를 만드는 것이 효율적"
   ]
  },
  {
   "cell_type": "markdown",
   "metadata": {},
   "source": [
    "- 위 코드에서는 먼저 ex라는 이름의 리스트를 만들고, 입력된 값을 제곱하는 람다함수 f를 생성하였다. 그리고 'map(함수이름, 리스트 데이터)'의 구조에서 map(f,ex) 코드를 실행한다. 이는 해당 코드로 함수 f를 ex의 각 요소에 매핑하라는 뜻이다."
   ]
  },
  {
   "cell_type": "code",
   "execution_count": 19,
   "metadata": {},
   "outputs": [
    {
     "name": "stdout",
     "output_type": "stream",
     "text": [
      "1\n",
      "4\n",
      "9\n",
      "16\n",
      "25\n"
     ]
    }
   ],
   "source": [
    "ex=[1,2,3,4,5]\n",
    "f=lambda x:x**2\n",
    "for value in map(f,ex):\n",
    "    print(value)"
   ]
  },
  {
   "cell_type": "markdown",
   "metadata": {},
   "source": [
    "#### 위 람다함수를 list comprehension으로 간단하게!"
   ]
  },
  {
   "cell_type": "code",
   "execution_count": 20,
   "metadata": {},
   "outputs": [
    {
     "data": {
      "text/plain": [
       "[1, 4, 9, 16, 25]"
      ]
     },
     "execution_count": 20,
     "metadata": {},
     "output_type": "execute_result"
    }
   ],
   "source": [
    "ex = [1, 2, 3, 4, 5]\n",
    "[x**2 for x in ex]"
   ]
  },
  {
   "cell_type": "markdown",
   "metadata": {},
   "source": [
    "* 한개 이상의 시퀀스 자료형 데이터의 처리  \n",
    "\n",
    "map()함수는 2개 이상의 시퀀스 자료형 데이터를 처리하는 데도 문제가 없다."
   ]
  },
  {
   "cell_type": "code",
   "execution_count": 78,
   "metadata": {},
   "outputs": [
    {
     "data": {
      "text/plain": [
       "[2, 4, 6, 8, 10]"
      ]
     },
     "execution_count": 78,
     "metadata": {},
     "output_type": "execute_result"
    }
   ],
   "source": [
    "ex=[1,2,3,4,5]\n",
    "f=lambda x,y:x+y\n",
    "list(map(f,ex,ex)) # zip 함수로도 가능"
   ]
  },
  {
   "cell_type": "code",
   "execution_count": 22,
   "metadata": {},
   "outputs": [
    {
     "data": {
      "text/plain": [
       "[2, 4, 6, 8, 10]"
      ]
     },
     "execution_count": 22,
     "metadata": {},
     "output_type": "execute_result"
    }
   ],
   "source": [
    "[x+y for x,y in zip(ex,ex)] # 리스트 컴프리헨션 용법"
   ]
  },
  {
   "cell_type": "markdown",
   "metadata": {},
   "source": [
    "#### map()함수에서 filter 기능사용하기 : else 필수로 사용"
   ]
  },
  {
   "cell_type": "code",
   "execution_count": 4,
   "metadata": {},
   "outputs": [
    {
     "data": {
      "text/plain": [
       "[1, 4, 3, 16, 5]"
      ]
     },
     "execution_count": 4,
     "metadata": {},
     "output_type": "execute_result"
    }
   ],
   "source": [
    "list(map(lambda x:x**2 if x%2==0 else x, ex)) #map() 함수\n",
    "# 짝수인 경우에는 제곱을하고, 아니라면 그냥 ex 값을 넣기\n",
    "# 따라서, 1,2*2,3,4*4,5 = 1,4,3,16,5 가 나오게 됨.\n",
    "\n",
    "\n",
    "\n",
    "[x**2 if x%2==0 else x for x in ex] # list comprehension\n",
    "\n",
    "# list comprehension은 else 안써도 되지만, map함수에서는 else 필수"
   ]
  },
  {
   "cell_type": "markdown",
   "metadata": {},
   "source": [
    "### 2.2. reduce 함수  \n",
    "- map() 함수와 다르지만 형제처럼 사용하는 함수로 리스트와 같은 시쿼스 자료형에 차례대로 함수를 적용하여 모든 값을 통합하는 함수이다."
   ]
  },
  {
   "cell_type": "code",
   "execution_count": 24,
   "metadata": {},
   "outputs": [
    {
     "name": "stdout",
     "output_type": "stream",
     "text": [
      "15\n"
     ]
    }
   ],
   "source": [
    "from functools import reduce\n",
    "print(reduce(lambda x,y:x+y, [1,2,3,4,5])) \n",
    "\n",
    "# 1차로 x+y를 하고, 해당 결과값을 x로 두고, 다음값을 y로 두어서 다시 x+y 진행\n",
    "# 1+2 = 3 -> 3+3=6 -> 6+4=10 -> 10+5=15 이런식으로!"
   ]
  },
  {
   "cell_type": "markdown",
   "metadata": {},
   "source": [
    "* 비교 코드"
   ]
  },
  {
   "cell_type": "code",
   "execution_count": 6,
   "metadata": {},
   "outputs": [
    {
     "name": "stdout",
     "output_type": "stream",
     "text": [
      "15\n"
     ]
    }
   ],
   "source": [
    "x=0\n",
    "for y in [1,2,3,4,5]:\n",
    "    x += y\n",
    "print(x)\n",
    "\n",
    "# reduce 함수를 for loop로 구현한 방법\n",
    "# 1) y에 1,2,3,4,5 를 차례로 할당\n",
    "# 2) x의 default는 0이고, x= x+y가 된다.\n",
    "# 3) x=0+1, x=1+2,x=3+3, x=6+4, x=10+5 로 반복됨\n",
    "# 4) x를 출력하면 결국 15가 나오게 된다"
   ]
  },
  {
   "cell_type": "markdown",
   "metadata": {},
   "source": [
    "## 3. 별표의 활용\n",
    "\n",
    "### 3.1. 가변 인수로 활용\n",
    "* 가변 인수를 사용할 때 변수 앞에 * 붙임"
   ]
  },
  {
   "cell_type": "code",
   "execution_count": 8,
   "metadata": {},
   "outputs": [
    {
     "name": "stdout",
     "output_type": "stream",
     "text": [
      "1 (2, 3, 4, 5, 6)\n",
      "<class 'tuple'>\n"
     ]
    }
   ],
   "source": [
    "def asterisk_test(a, *args):\n",
    "    print(a,args)\n",
    "    print(type(args))\n",
    "\n",
    "asterisk_test(1,2,3,4,5,6)  # 매개변수 이름까지 지정X. 값만 넘기는 것\n",
    "\n",
    "# 함수를 선언할 때 * 붙임 = 튜플로 묶인다"
   ]
  },
  {
   "cell_type": "markdown",
   "metadata": {},
   "source": [
    "* 키워드 가변 인수"
   ]
  },
  {
   "cell_type": "code",
   "execution_count": 7,
   "metadata": {},
   "outputs": [
    {
     "name": "stdout",
     "output_type": "stream",
     "text": [
      "1 {'b': 2, 'c': 3, 'd': 4, 'e': 5, 'f': 6}\n",
      "<class 'dict'>\n"
     ]
    }
   ],
   "source": [
    "def asterisk_test(a,**kargs):\n",
    "    print(a,kargs)\n",
    "    print(type(kargs))\n",
    "asterisk_test(1,b=2,c=3,d=4,e=5,f=6)  # 매개변수의 이름까지 지정할 수 있음"
   ]
  },
  {
   "cell_type": "markdown",
   "metadata": {},
   "source": [
    "#### 함수를 선언할 때 vs 실행할 때 * 의 차이  \n",
    "\n",
    "  **1) 함수를 선언할 때**  \n",
    "  def asterisk_test(a, * args) 처럼 함수를 선언할 때 변수 앞에 * 를 붙이는 것은  \n",
    "여러 인수를 받을 수 있다는 것을 의미함   \n",
    "입력값은 튜플로 묶여 (1,(2,3,4,5,6)) 으로 출력됨\n",
    "  \n",
    "  **2) 함수를 실행할 때**  \n",
    "  print(a, * args) 처럼 실행문에서 변수 앞에 * 를 붙이는 것은 **언패킹** 의미!  \n",
    "  따라서, 아래 코드 결과에서 살펴볼 수 있듯이,  \n",
    "  결과 값이 괄호 안에 있는 게 아니라 123456 으로 출력되는 것을 확인할 수 있다"
   ]
  },
  {
   "cell_type": "markdown",
   "metadata": {},
   "source": [
    "* 튜플?  \n",
    "리스트는 [ ] 으로 둘러싸지만, 튜플은 ( )으로 둘러싼다.  \n",
    "리스트는 값의 생성, 삭제, 수정이 가능하지만 튜플은 값을 바꿀 수 없다"
   ]
  },
  {
   "cell_type": "markdown",
   "metadata": {},
   "source": [
    "### 3.2. 별표의 언패킹 기능\n",
    "* 함수에서의 사용"
   ]
  },
  {
   "cell_type": "code",
   "execution_count": 9,
   "metadata": {},
   "outputs": [
    {
     "name": "stdout",
     "output_type": "stream",
     "text": [
      "1 2 3 4 5 6\n",
      "<class 'tuple'>\n"
     ]
    }
   ],
   "source": [
    "def asterisk_test(a,args):\n",
    "    print(a,*args)\n",
    "    print(type(args))\n",
    "asterisk_test(1,(2,3,4,5,6))\n",
    "\n",
    "# 1은 a에, 2,3,4,5,6은 args에 mapping\n",
    "\n",
    "# def asterisk_test(a, *args) 함수를 선언할 때 변수 앞 *를 붙이는 것은 언패킹!"
   ]
  },
  {
   "cell_type": "code",
   "execution_count": 29,
   "metadata": {},
   "outputs": [
    {
     "name": "stdout",
     "output_type": "stream",
     "text": [
      "1 (2, 3, 4, 5, 6)\n",
      "<class 'tuple'>\n"
     ]
    }
   ],
   "source": [
    "def asterisk_test(a,args):\n",
    "    print(a,args)\n",
    "    print(type(args))\n",
    "asterisk_test(1,(2,3,4,5,6))"
   ]
  },
  {
   "cell_type": "markdown",
   "metadata": {},
   "source": [
    "* 일반 자료형에서의 사용"
   ]
  },
  {
   "cell_type": "code",
   "execution_count": 12,
   "metadata": {},
   "outputs": [
    {
     "name": "stdout",
     "output_type": "stream",
     "text": [
      "[1, 2] [3, 4] [5, 6]\n",
      "[1, 2] [3, 4] [5, 6]\n"
     ]
    }
   ],
   "source": [
    "a,b,c=([1,2], [3,4], [5,6])\n",
    "print(a,b,c)\n",
    "data=([1,2], [3,4], [5,6])\n",
    "print(*data)  # 함수 실행 시 *로 언패킹 (*없다면, ([1,2],[3,4,[5,6])으로 출력)"
   ]
  },
  {
   "cell_type": "markdown",
   "metadata": {},
   "source": [
    "* zip 함수와의 응용"
   ]
  },
  {
   "cell_type": "code",
   "execution_count": 13,
   "metadata": {},
   "outputs": [
    {
     "name": "stdout",
     "output_type": "stream",
     "text": [
      "(1, 3, 5)\n",
      "<class 'tuple'>\n",
      "(2, 4, 6)\n",
      "<class 'tuple'>\n"
     ]
    }
   ],
   "source": [
    "for data in zip(*[[1,2],[3,4],[5,6]]):\n",
    "    print(data)\n",
    "    print(type(data))\n",
    "    \n",
    "# [1,2], [3,4], [5,6] 3개의 리스트를 zip으로 같은 위치의 값을 튜플로 묶음\n",
    "# (1,3,5), (2,4,6)을 꺼내옴"
   ]
  },
  {
   "cell_type": "markdown",
   "metadata": {},
   "source": [
    "* 키워드 가변 인수 응용"
   ]
  },
  {
   "cell_type": "code",
   "execution_count": 15,
   "metadata": {},
   "outputs": [
    {
     "name": "stdout",
     "output_type": "stream",
     "text": [
      "10 1 2 3\n"
     ]
    }
   ],
   "source": [
    "def asterisk_test(a,b,c,d):\n",
    "    print(a,b,c,d)\n",
    "data={\"b\":1, \"c\":2, \"d\":3}\n",
    "asterisk_test(10, **data)\n",
    "\n",
    "\n",
    "# **를 사용할 경우, 딕셔너리형을 언패킹함\n",
    "# 10은 a에 할당되고, bcd=123은 data에 할당되는데, **써서 언패킹!\n",
    "# 따라서 10 1 2 3으로 출력 결과 나옴"
   ]
  },
  {
   "cell_type": "markdown",
   "metadata": {},
   "source": [
    "## 4. 선형대수학\n",
    "### 4.1. 파이썬 스타일 코드로 표현한 벡터"
   ]
  },
  {
   "cell_type": "code",
   "execution_count": 34,
   "metadata": {},
   "outputs": [],
   "source": [
    "vector_a=[1,2,10]  # 리스트로 표현한 경우\n",
    "vector_b=(1,2,10)   # 튜플로 표현한 경우\n",
    "vector_c={'x':1, 'y':2, 'z':10}  # 딕셔너리로 표현한 경우\n",
    "\n",
    "# 딕셔너리 사용 : x,y,z 같은 정보를 함께 표현해야 하는 경우\n",
    "# 튜플 사용 : 데이터의 위치나 순서가 바뀌지 않아야 하는 경우\n",
    "# 리스트 사용 : 데이터의 위치나 순서가 바뀔 가능성이 있고, 정보를 함께 표현할 필요가 없는 경우"
   ]
  },
  {
   "cell_type": "markdown",
   "metadata": {},
   "source": [
    "* 벡터의 연산 : 벡터합"
   ]
  },
  {
   "cell_type": "code",
   "execution_count": 35,
   "metadata": {},
   "outputs": [
    {
     "name": "stdout",
     "output_type": "stream",
     "text": [
      "[7, 10]\n"
     ]
    }
   ],
   "source": [
    "u=[2,2]\n",
    "v=[2,3]\n",
    "z=[3,5]\n",
    "result=[]\n",
    "\n",
    "for i in range(len(u)):\n",
    "    result.append(u[i]+v[i]+z[i])\n",
    "print(result)\n",
    "\n",
    "# 벡터의 연산을 for 문으로 코딩한다면\n",
    "\n",
    "# 따라서, u,v,z 에서 i번째에 위치한 것끼리 반복해서 더하는 것이므로\n",
    "# 2+2+3 = 7, 2+3+5 = 10 이 결과로 나오게 됨."
   ]
  },
  {
   "cell_type": "code",
   "execution_count": 36,
   "metadata": {},
   "outputs": [
    {
     "name": "stdout",
     "output_type": "stream",
     "text": [
      "[7, 10]\n"
     ]
    }
   ],
   "source": [
    "u=[2,2]\n",
    "v=[2,3]\n",
    "z=[3,5]\n",
    "result=[sum(t) for t in zip(u,v,z)]\n",
    "print(result)\n",
    "\n",
    "# 결과값이 sum(t)이고, zip으로 u,v,z를 병렬로 합한다.\n",
    "# zip 결과 세로로 같은 위치에 있는 것끼리 튜플로 병렬구조로 만들어진다.\n",
    "# zip 결과를 sum 하면 2+2+3 = 7, 2+3+5 = 10 이 결과로 나옴.\n",
    "\n",
    "\n",
    "# 벡터의 연산 = 같은 위치 (같은 인덱스 값)에 있는 값끼리 연산"
   ]
  },
  {
   "cell_type": "markdown",
   "metadata": {},
   "source": [
    "* 별표를 사용한 함수화"
   ]
  },
  {
   "cell_type": "code",
   "execution_count": 37,
   "metadata": {},
   "outputs": [
    {
     "data": {
      "text/plain": [
       "[7, 10]"
      ]
     },
     "execution_count": 37,
     "metadata": {},
     "output_type": "execute_result"
    }
   ],
   "source": [
    "def vector_addition(*args):\n",
    "    return [sum(t) for t in zip(*args)]   # unpacking 통해 zip(u,v,z) 효과를 낼 수 있음.\n",
    "\n",
    "vector_addition(u,v,z)\n",
    "\n",
    "# *args 로 가변인수를 만들었기 때문에, vector_addition(u,v,z)에서 인수를 몇개하더라도 상관없음."
   ]
  },
  {
   "cell_type": "markdown",
   "metadata": {},
   "source": [
    "* 간단한 두벡터의 합"
   ]
  },
  {
   "cell_type": "code",
   "execution_count": 38,
   "metadata": {},
   "outputs": [
    {
     "data": {
      "text/plain": [
       "[3, 3]"
      ]
     },
     "execution_count": 38,
     "metadata": {},
     "output_type": "execute_result"
    }
   ],
   "source": [
    "a = [1, 1]\n",
    "b = [2, 2]\n",
    "\n",
    "[x + y for x, y in zip(a, b)]\n",
    "\n",
    "# zip(a,b)를 하면 같은 위치끼리 (1,2),(1,2)로 튜플이 된다.\n",
    "# 결과값은 x+y이므로 1+2,1+2를 하면 [3,3]이 결과로 나온다."
   ]
  },
  {
   "cell_type": "markdown",
   "metadata": {},
   "source": [
    "* 벡터의 연산 : 스칼라곱"
   ]
  },
  {
   "cell_type": "code",
   "execution_count": 40,
   "metadata": {},
   "outputs": [
    {
     "data": {
      "text/plain": [
       "[10, 12, 14]"
      ]
     },
     "execution_count": 40,
     "metadata": {},
     "output_type": "execute_result"
    }
   ],
   "source": [
    "u=[1,2,3]\n",
    "v=[4,4,4]\n",
    "\n",
    "alpha=2\n",
    "\n",
    "result=[alpha*sum(t) for t in zip(u,v)]\n",
    "result\n",
    "\n",
    "# u,v를 zip으로 하면 (1,4),(2,4),(3,4)가 t가 된다.\n",
    "# alpha는 2로 고정시켜놓았기 때문에 2*sum(t)를 하면\n",
    "# 2*(1+4)=10, 2*(2+4)=12, 2*(3+4)=14로 [10,12,14]가 결과값으로 출력된다."
   ]
  },
  {
   "cell_type": "markdown",
   "metadata": {},
   "source": [
    "### 4.2. 파이썬 스타일코드로 표현한 행렬\n",
    "* 딕셔너리로 표현하는 경우 좌표정보나 이름정보를 넣을 수 있으나 복잡함"
   ]
  },
  {
   "cell_type": "code",
   "execution_count": 41,
   "metadata": {},
   "outputs": [],
   "source": [
    "matrix_a=[[3,6], [4,5]] #리스트로 표현한 경우\n",
    "matrix_b=[(3,6), (4,5)] #튜플로 표현한 경우\n",
    "matrix_c={(0,0):3, (0,1):6, (1,0):4, (1,1):5}  #딕셔너리로 표현한경우"
   ]
  },
  {
   "cell_type": "markdown",
   "metadata": {},
   "source": [
    "* 행렬의 연산: 행렬의 elemnet-wise 합"
   ]
  },
  {
   "cell_type": "code",
   "execution_count": 42,
   "metadata": {},
   "outputs": [
    {
     "name": "stdout",
     "output_type": "stream",
     "text": [
      "[[8, 14], [10, 12]]\n"
     ]
    }
   ],
   "source": [
    "matrix_a=[[3,6], [4,5]]\n",
    "matrix_b=[[5,8], [6,7]]\n",
    "\n",
    "result=[[sum(row) for row in zip(*t)] for t in zip(matrix_a, matrix_b)]\n",
    "print(result)\n",
    "\n",
    "# 바깥에 있는 for문을 수행하면 ([3,6],[5,8],[4,5],[6,7]) 로 튜플 생성 이게 t로!\n",
    "# zip(*t)를 하면 언패킹이 되고, 같은 인덱스끼리 병렬로 합쳐지니까 (3,5),(6,8)이 row에 할당됨.\n",
    "# 그래서 3+5=8, 6+8=14로 [8,14]가 처음에 만들어짐\n",
    "# 같은 방식으로 (4,6),(5,7)이 row에 할당되고, 4+6=10, 5+7=12로 [10,12]도 만들어진다.\n",
    "#result값을 print 하면 [[8,14],[10,12]]가 출력"
   ]
  },
  {
   "cell_type": "markdown",
   "metadata": {},
   "source": [
    "## 일반문제\n",
    "\n",
    "### 주민등록번호로 성별 찾기 with map\n",
    "여러개의 요소를 가지는 다음과 같은 리스트에서 성별을 찾는 과정을 맵리듀스를 이용해 간단하게 구현해보자."
   ]
  },
  {
   "cell_type": "code",
   "execution_count": 43,
   "metadata": {},
   "outputs": [
    {
     "data": {
      "text/plain": [
       "['1', '2', '1', '1']"
      ]
     },
     "execution_count": 43,
     "metadata": {},
     "output_type": "execute_result"
    }
   ],
   "source": [
    "pins = [\"891120-1234567\", \"931120-2335567\", \"911120-1234234\", \"951120-1234567\"]\n",
    "\n",
    "\n",
    "list(map(lambda x: x.split(\"-\")[1][0], pins))\n",
    "\n",
    "# 성별은 주민등록번호 뒤 7자리 중 가장 앞의 숫자가 1이면 남자, 2면 여자이다.\n",
    "\n",
    "# 1) 따라서, - 를 기준으로 split 한 다음\n",
    "# 2) 인덱스[1]을 하면 뒤 7자리가 선택되고, \n",
    "# 3) 이를 기준으로 [0]을 하면 가장 앞자리가 출력된다.\n",
    "# 4) 이 3과정을 lambda 함수로 만든다 (lambda = -로 split하고 인덱스1, 다음에 인덱스 0 선택)\n",
    "# 5) pins의 각 요소를 해당 lambda 함수에 넣고 mapping한다\n",
    "# 6) 그러면 ['1','2','1','1']라는 리스트가 생성된다."
   ]
  },
  {
   "cell_type": "markdown",
   "metadata": {},
   "source": [
    "## 도전문제\n",
    "\n",
    "### 벡터의 내적\n",
    "크기가 같은 두 벡터의 내적은 벡터의 각 성분별 곱한 값을 더해준 값이다.  \n",
    "Q. 크기가 같은 두 벡터 (list 형태)를 받으면 이를 내적한 값을 도출하는 함수 dot를 구현하고, 이를 활용하여 a = [1,2], b = [3,4] 를 내적한 값을 구하시오."
   ]
  },
  {
   "cell_type": "code",
   "execution_count": 44,
   "metadata": {},
   "outputs": [
    {
     "data": {
      "text/plain": [
       "11"
      ]
     },
     "execution_count": 44,
     "metadata": {},
     "output_type": "execute_result"
    }
   ],
   "source": [
    "a = [1, 2]\n",
    "b = [3, 4]\n",
    "\n",
    "dot = lambda a,b : sum([x*y for x, y in zip(a, b)])\n",
    "\n",
    "dot(a,b)\n",
    "\n",
    "# 1) sum([x*y in zip(a,b)])를 하는 lambda 함수를 만든다.\n",
    "# 2) zip(a,b)를 하면 (1.3),(2,4)가 된다.\n",
    "# 3) 2)에서 x*y를 해주면 각각 1*3=3, 2*4=8이 된다.\n",
    "# 4) 3)의 결과를 sum 해주는 것이 dot 함수이므로, 3+8 = 11이 된다."
   ]
  }
 ],
 "metadata": {
  "kernelspec": {
   "display_name": "Python 3",
   "language": "python",
   "name": "python3"
  },
  "language_info": {
   "codemirror_mode": {
    "name": "ipython",
    "version": 3
   },
   "file_extension": ".py",
   "mimetype": "text/x-python",
   "name": "python",
   "nbconvert_exporter": "python",
   "pygments_lexer": "ipython3",
   "version": "3.8.3"
  }
 },
 "nbformat": 4,
 "nbformat_minor": 4
}
