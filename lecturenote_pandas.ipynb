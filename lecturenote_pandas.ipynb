{
 "cells": [
  {
   "cell_type": "markdown",
   "metadata": {},
   "source": [
    "# 판다스 Pandas\n",
    "\n",
    "## 판다스의 주요 구성요소\n",
    "### DataFrame, Series, Index\n",
    "  \n",
    "    \n",
    "- DataFrame : column X rows 2차원 데이터 셋  \n",
    "- Series : 1개의 column 값으로만 구성된 1차원 데이터 셋"
   ]
  },
  {
   "cell_type": "code",
   "execution_count": 19,
   "metadata": {},
   "outputs": [],
   "source": [
    "import pandas as pd"
   ]
  },
  {
   "cell_type": "code",
   "execution_count": 20,
   "metadata": {},
   "outputs": [],
   "source": [
    "from pandas import DataFrame as df"
   ]
  },
  {
   "cell_type": "code",
   "execution_count": 21,
   "metadata": {},
   "outputs": [],
   "source": [
    "titanic_df=pd.read_csv('titanic_train.csv')"
   ]
  },
  {
   "cell_type": "code",
   "execution_count": 22,
   "metadata": {
    "scrolled": true
   },
   "outputs": [
    {
     "name": "stdout",
     "output_type": "stream",
     "text": [
      "     PassengerId  Survived  Pclass  \\\n",
      "0              1         0       3   \n",
      "1              2         1       1   \n",
      "2              3         1       3   \n",
      "3              4         1       1   \n",
      "4              5         0       3   \n",
      "..           ...       ...     ...   \n",
      "886          887         0       2   \n",
      "887          888         1       1   \n",
      "888          889         0       3   \n",
      "889          890         1       1   \n",
      "890          891         0       3   \n",
      "\n",
      "                                                  Name     Sex   Age  SibSp  \\\n",
      "0                              Braund, Mr. Owen Harris    male  22.0      1   \n",
      "1    Cumings, Mrs. John Bradley (Florence Briggs Th...  female  38.0      1   \n",
      "2                               Heikkinen, Miss. Laina  female  26.0      0   \n",
      "3         Futrelle, Mrs. Jacques Heath (Lily May Peel)  female  35.0      1   \n",
      "4                             Allen, Mr. William Henry    male  35.0      0   \n",
      "..                                                 ...     ...   ...    ...   \n",
      "886                              Montvila, Rev. Juozas    male  27.0      0   \n",
      "887                       Graham, Miss. Margaret Edith  female  19.0      0   \n",
      "888           Johnston, Miss. Catherine Helen \"Carrie\"  female   NaN      1   \n",
      "889                              Behr, Mr. Karl Howell    male  26.0      0   \n",
      "890                                Dooley, Mr. Patrick    male  32.0      0   \n",
      "\n",
      "     Parch            Ticket     Fare Cabin Embarked  \n",
      "0        0         A/5 21171   7.2500   NaN        S  \n",
      "1        0          PC 17599  71.2833   C85        C  \n",
      "2        0  STON/O2. 3101282   7.9250   NaN        S  \n",
      "3        0            113803  53.1000  C123        S  \n",
      "4        0            373450   8.0500   NaN        S  \n",
      "..     ...               ...      ...   ...      ...  \n",
      "886      0            211536  13.0000   NaN        S  \n",
      "887      0            112053  30.0000   B42        S  \n",
      "888      2        W./C. 6607  23.4500   NaN        S  \n",
      "889      0            111369  30.0000  C148        C  \n",
      "890      0            370376   7.7500   NaN        Q  \n",
      "\n",
      "[891 rows x 12 columns]\n"
     ]
    }
   ],
   "source": [
    "print(titanic_df)"
   ]
  },
  {
   "cell_type": "code",
   "execution_count": 35,
   "metadata": {
    "scrolled": true
   },
   "outputs": [
    {
     "name": "stdout",
     "output_type": "stream",
     "text": [
      "     PassengerId  Survived  Pclass  \\\n",
      "0              1         0       3   \n",
      "1              2         1       1   \n",
      "2              3         1       3   \n",
      "3              4         1       1   \n",
      "4              5         0       3   \n",
      "..           ...       ...     ...   \n",
      "886          887         0       2   \n",
      "887          888         1       1   \n",
      "888          889         0       3   \n",
      "889          890         1       1   \n",
      "890          891         0       3   \n",
      "\n",
      "                                                  Name     Sex  SibSp  Parch  \\\n",
      "0                              Braund, Mr. Owen Harris    male      1      0   \n",
      "1    Cumings, Mrs. John Bradley (Florence Briggs Th...  female      1      0   \n",
      "2                               Heikkinen, Miss. Laina  female      0      0   \n",
      "3         Futrelle, Mrs. Jacques Heath (Lily May Peel)  female      1      0   \n",
      "4                             Allen, Mr. William Henry    male      0      0   \n",
      "..                                                 ...     ...    ...    ...   \n",
      "886                              Montvila, Rev. Juozas    male      0      0   \n",
      "887                       Graham, Miss. Margaret Edith  female      0      0   \n",
      "888           Johnston, Miss. Catherine Helen \"Carrie\"  female      1      2   \n",
      "889                              Behr, Mr. Karl Howell    male      0      0   \n",
      "890                                Dooley, Mr. Patrick    male      0      0   \n",
      "\n",
      "               Ticket     Fare Cabin Embarked  Name_len  \n",
      "0           A/5 21171   7.2500   NaN        S        23  \n",
      "1            PC 17599  71.2833   C85        C        51  \n",
      "2    STON/O2. 3101282   7.9250   NaN        S        22  \n",
      "3              113803  53.1000  C123        S        44  \n",
      "4              373450   8.0500   NaN        S        24  \n",
      "..                ...      ...   ...      ...       ...  \n",
      "886            211536  13.0000   NaN        S        21  \n",
      "887            112053  30.0000   B42        S        28  \n",
      "888        W./C. 6607  23.4500   NaN        S        40  \n",
      "889            111369  30.0000  C148        C        21  \n",
      "890            370376   7.7500   NaN        Q        19  \n",
      "\n",
      "[891 rows x 12 columns]\n"
     ]
    }
   ],
   "source": [
    "titanic_drop_df = titanic_df.drop('Age',axis=1, inplace=False)\n",
    "print(titanic_drop_df)"
   ]
  },
  {
   "cell_type": "markdown",
   "metadata": {},
   "source": [
    "## Index\n",
    "- 판다스의 index 객체는 RDMS의 PK와 유사하게 dataframe, series의 레코드를 고유하게 식별하는 개체이다.  \n",
    "  \n",
    "- dataframe, series에서 index 객체만 추출하려면 DataFrame.index 또는 Series.index 속성을 통해 가능하다  \n",
    "  \n",
    "- Series 객체는 Index 객체를 포함하지만 Series 객체에 연산 함수를 적용할 때 Index는 연산에서 제외된다. Index는 오직 식별용으로만 사용된다.  \n",
    "  \n",
    "- DataFrame 및 Series에 reset_index() 메서드를 수행하면 새롭게 인덱스를 연속 숫자형으로 할당하면 기존 인덱스는 'index'라는 새로운 컬럼명으로 추가한다."
   ]
  },
  {
   "cell_type": "markdown",
   "metadata": {},
   "source": [
    "## 데이터 셀렉션 및 필터링\n",
    "#### 1. []  \n",
    ": 컬럼 기반 필터링 또는 불린 인덱싱 필터링 제공  \n",
    "  \n",
    "#### 2. ix[], loc[], iloc[]  \n",
    ": 명칭/위치 기반 인덱싱 제공    \n",
    "  \n",
    "*명칭(Label)기반 인덱싱 : 컬럼의 명칭을 기반으로 위치지정. '컬럼명'같이 명칭으로 열 위치 지정  \n",
    "*위치(Position)기반 인덱싱 : 0을 출발점으로 하는 가로축, 세로축 좌표 기반의 행과 열 위치를 기반으로 데이터 지정.  \n",
    "따라서, 행, 열 위치값으로 정수가 입력됨  \n",
    "  \n",
    "    \n",
    "(1) ix[] : 명칭 기반과 위치 기반 인덱싱을 함께 제공  \n",
    "(2) loc[] : 명칭 기반 인덱싱  \n",
    "(3) iloc[] : 위치 기반 인덱싱\n",
    "  \n",
    "#### 3. 불린 인덱싱(Boolean indexing)  \n",
    ": 조건식에 따른 필터링 제공"
   ]
  },
  {
   "cell_type": "code",
   "execution_count": 28,
   "metadata": {},
   "outputs": [
    {
     "name": "stdout",
     "output_type": "stream",
     "text": [
      "     PassengerId  Survived  Pclass                                       Name  \\\n",
      "33            34         0       2                      Wheadon, Mr. Edward H   \n",
      "54            55         0       1             Ostby, Mr. Engelhart Cornelius   \n",
      "96            97         0       1                  Goldschmidt, Mr. George B   \n",
      "116          117         0       3                       Connors, Mr. Patrick   \n",
      "170          171         0       1                  Van der hoef, Mr. Wyckoff   \n",
      "252          253         0       1                  Stead, Mr. William Thomas   \n",
      "275          276         1       1          Andrews, Miss. Kornelia Theodosia   \n",
      "280          281         0       3                           Duane, Mr. Frank   \n",
      "326          327         0       3                  Nysveen, Mr. Johan Hansen   \n",
      "438          439         0       1                          Fortune, Mr. Mark   \n",
      "456          457         0       1                  Millet, Mr. Francis Davis   \n",
      "483          484         1       3                     Turkula, Mrs. (Hedwig)   \n",
      "493          494         0       1                    Artagaveytia, Mr. Ramon   \n",
      "545          546         0       1               Nicholson, Mr. Arthur Ernest   \n",
      "555          556         0       1                         Wright, Mr. George   \n",
      "570          571         1       2                         Harris, Mr. George   \n",
      "625          626         0       1                      Sutton, Mr. Frederick   \n",
      "630          631         1       1       Barkworth, Mr. Algernon Henry Wilson   \n",
      "672          673         0       2                Mitchell, Mr. Henry Michael   \n",
      "745          746         0       1               Crosby, Capt. Edward Gifford   \n",
      "829          830         1       1  Stone, Mrs. George Nelson (Martha Evelyn)   \n",
      "851          852         0       3                        Svensson, Mr. Johan   \n",
      "\n",
      "        Sex   Age  SibSp  Parch       Ticket      Fare        Cabin Embarked  \n",
      "33     male  66.0      0      0   C.A. 24579   10.5000          NaN        S  \n",
      "54     male  65.0      0      1       113509   61.9792          B30        C  \n",
      "96     male  71.0      0      0     PC 17754   34.6542           A5        C  \n",
      "116    male  70.5      0      0       370369    7.7500          NaN        Q  \n",
      "170    male  61.0      0      0       111240   33.5000          B19        S  \n",
      "252    male  62.0      0      0       113514   26.5500          C87        S  \n",
      "275  female  63.0      1      0        13502   77.9583           D7        S  \n",
      "280    male  65.0      0      0       336439    7.7500          NaN        Q  \n",
      "326    male  61.0      0      0       345364    6.2375          NaN        S  \n",
      "438    male  64.0      1      4        19950  263.0000  C23 C25 C27        S  \n",
      "456    male  65.0      0      0        13509   26.5500          E38        S  \n",
      "483  female  63.0      0      0         4134    9.5875          NaN        S  \n",
      "493    male  71.0      0      0     PC 17609   49.5042          NaN        C  \n",
      "545    male  64.0      0      0          693   26.0000          NaN        S  \n",
      "555    male  62.0      0      0       113807   26.5500          NaN        S  \n",
      "570    male  62.0      0      0  S.W./PP 752   10.5000          NaN        S  \n",
      "625    male  61.0      0      0        36963   32.3208          D50        S  \n",
      "630    male  80.0      0      0        27042   30.0000          A23        S  \n",
      "672    male  70.0      0      0   C.A. 24580   10.5000          NaN        S  \n",
      "745    male  70.0      1      1    WE/P 5735   71.0000          B22        S  \n",
      "829  female  62.0      0      0       113572   80.0000          B28      NaN  \n",
      "851    male  74.0      0      0       347060    7.7750          NaN        S  \n"
     ]
    }
   ],
   "source": [
    "titanic_Boolean=titanic_df[titanic_df['Age']>60]\n",
    "print(titanic_Boolean)"
   ]
  },
  {
   "cell_type": "markdown",
   "metadata": {},
   "source": [
    "## Aggregation 함수\n",
    "- sum(), max(), min(), count() 등의 함수는 DataFrame / Series에서 집합(Aggregation) 연산을 수행  \n",
    "- DataFrame의 경우 DataFrame에서 바로 aggregation을 호출할 경우 모든 컬럼에 해당 aggregation을 적용"
   ]
  },
  {
   "cell_type": "code",
   "execution_count": 30,
   "metadata": {},
   "outputs": [
    {
     "data": {
      "text/plain": [
       "0       29.2500\n",
       "1      109.2833\n",
       "2       33.9250\n",
       "3       88.1000\n",
       "4       43.0500\n",
       "         ...   \n",
       "886     40.0000\n",
       "887     49.0000\n",
       "888     23.4500\n",
       "889     56.0000\n",
       "890     39.7500\n",
       "Length: 891, dtype: float64"
      ]
     },
     "execution_count": 30,
     "metadata": {},
     "output_type": "execute_result"
    }
   ],
   "source": [
    "titanic_df[['Age','Fare']].sum(axis=1)\n",
    "# Aggregation 함수 호출 시 axis 값을 명시하지 않으면 axis=0과 같은 결과 출력"
   ]
  },
  {
   "cell_type": "markdown",
   "metadata": {},
   "source": [
    "## 결손 데이터(Missing Data) 처리하기\n",
    "- isna() : DataFrame의 isna()메소드는 주어진 칼럼값들이 NaN인지 True/False 값을 판환함 (Nan이면 True)  \n",
    "- fillna() : Missing 데이터를 인자로 주어진 값으로 대체함  \n",
    "  \n",
    "      \n",
    "## DataFrame Group By  \n",
    "- DataFrame은 Group by 연산을 위해 groupby() 메소드를 제공  \n",
    "- groupby() 메소드는 by인자로 group by 하려는 컬럼명을 입력받으면 DataFrameGroupBy 객체를 반환  \n",
    "- 이렇게 반환된 DataFrameGroupBy 객체에 aggregation 함수를 수행"
   ]
  },
  {
   "cell_type": "markdown",
   "metadata": {},
   "source": [
    "## 판다스에서 lambda 함수\n",
    "- 판다스는 apply 함수에 lambda 식을 결합해 DataFrame이나 Series의 레코드별로 데이터를 가공하는 기능을 제공함  \n",
    "- 판다스의 경우 컬럼에 일괄적으로 데이터 가공을 하는 것이 속도 면에서 더 빠르나 복잡한 데이터 가공이 필요한 경우 어쩔 수 없이 apply lambda를 이용함"
   ]
  },
  {
   "cell_type": "code",
   "execution_count": 32,
   "metadata": {},
   "outputs": [
    {
     "name": "stdout",
     "output_type": "stream",
     "text": [
      "     PassengerId  Survived  Pclass  \\\n",
      "0              1         0       3   \n",
      "1              2         1       1   \n",
      "2              3         1       3   \n",
      "3              4         1       1   \n",
      "4              5         0       3   \n",
      "..           ...       ...     ...   \n",
      "886          887         0       2   \n",
      "887          888         1       1   \n",
      "888          889         0       3   \n",
      "889          890         1       1   \n",
      "890          891         0       3   \n",
      "\n",
      "                                                  Name     Sex   Age  SibSp  \\\n",
      "0                              Braund, Mr. Owen Harris    male  22.0      1   \n",
      "1    Cumings, Mrs. John Bradley (Florence Briggs Th...  female  38.0      1   \n",
      "2                               Heikkinen, Miss. Laina  female  26.0      0   \n",
      "3         Futrelle, Mrs. Jacques Heath (Lily May Peel)  female  35.0      1   \n",
      "4                             Allen, Mr. William Henry    male  35.0      0   \n",
      "..                                                 ...     ...   ...    ...   \n",
      "886                              Montvila, Rev. Juozas    male  27.0      0   \n",
      "887                       Graham, Miss. Margaret Edith  female  19.0      0   \n",
      "888           Johnston, Miss. Catherine Helen \"Carrie\"  female   NaN      1   \n",
      "889                              Behr, Mr. Karl Howell    male  26.0      0   \n",
      "890                                Dooley, Mr. Patrick    male  32.0      0   \n",
      "\n",
      "     Parch            Ticket     Fare Cabin Embarked  Name_len  \n",
      "0        0         A/5 21171   7.2500   NaN        S        23  \n",
      "1        0          PC 17599  71.2833   C85        C        51  \n",
      "2        0  STON/O2. 3101282   7.9250   NaN        S        22  \n",
      "3        0            113803  53.1000  C123        S        44  \n",
      "4        0            373450   8.0500   NaN        S        24  \n",
      "..     ...               ...      ...   ...      ...       ...  \n",
      "886      0            211536  13.0000   NaN        S        21  \n",
      "887      0            112053  30.0000   B42        S        28  \n",
      "888      2        W./C. 6607  23.4500   NaN        S        40  \n",
      "889      0            111369  30.0000  C148        C        21  \n",
      "890      0            370376   7.7500   NaN        Q        19  \n",
      "\n",
      "[891 rows x 13 columns]\n"
     ]
    }
   ],
   "source": [
    "titanic_df['Name_len']=titanic_df['Name'].apply(lambda x:len(x))\n",
    "print(titanic_df)"
   ]
  },
  {
   "cell_type": "code",
   "execution_count": null,
   "metadata": {},
   "outputs": [],
   "source": []
  }
 ],
 "metadata": {
  "kernelspec": {
   "display_name": "Python 3",
   "language": "python",
   "name": "python3"
  },
  "language_info": {
   "codemirror_mode": {
    "name": "ipython",
    "version": 3
   },
   "file_extension": ".py",
   "mimetype": "text/x-python",
   "name": "python",
   "nbconvert_exporter": "python",
   "pygments_lexer": "ipython3",
   "version": "3.8.3"
  }
 },
 "nbformat": 4,
 "nbformat_minor": 4
}
